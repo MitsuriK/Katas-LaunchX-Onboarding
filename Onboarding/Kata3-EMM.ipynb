{
 "cells": [
  {
   "cell_type": "markdown",
   "metadata": {},
   "source": [
    "# Lógica Booleana\n",
    "\n",
    "Escribir declaraciones if:\n",
    "Iguales: a == b\n",
    "No es igual: a != b\n",
    "Menor que: a < b\n",
    "Menor o igual que: a <= b\n",
    "Mayor que: a > b\n",
    "Mayor o igual que: a >= b"
   ]
  },
  {
   "cell_type": "code",
   "execution_count": 2,
   "metadata": {},
   "outputs": [],
   "source": [
    "# Tip de práctica 1: Intenta ejecutarlo en un notebook.\n",
    "a = 97\n",
    "b = 55\n",
    "# test expression / expresión de prueba\n",
    "if a < b:\n",
    "    # statement to be run / instrucción a ejecutar\n",
    "    print(b)"
   ]
  },
  {
   "cell_type": "markdown",
   "metadata": {},
   "source": [
    "Al no arrojar resultado TRUE la prueba, el programa no ejecuta ningún comando."
   ]
  },
  {
   "cell_type": "code",
   "execution_count": 3,
   "metadata": {},
   "outputs": [
    {
     "name": "stdout",
     "output_type": "stream",
     "text": [
      "93\n"
     ]
    }
   ],
   "source": [
    "# Aplica el tip de práctica 1.\n",
    "a = 93\n",
    "b = 27\n",
    "if a >= b:\n",
    "    print(a)"
   ]
  },
  {
   "cell_type": "markdown",
   "metadata": {},
   "source": [
    "Al arrojar resultado TRUE la prueba, se ejecuta el comando del programa."
   ]
  },
  {
   "cell_type": "markdown",
   "metadata": {},
   "source": [
    "# Programa asteroide no.1\n",
    "Crear un programa que arroje una advertencia si el asteroide se acerca a la tierra a más de 25km/s"
   ]
  },
  {
   "cell_type": "code",
   "execution_count": 58,
   "metadata": {},
   "outputs": [
    {
     "name": "stdout",
     "output_type": "stream",
     "text": [
      "La velocidad del asteroide es: 32km/s cuidado!!\n"
     ]
    }
   ],
   "source": [
    "from random import randrange\n",
    "velocidadAsteroide = randrange(20, 51)\n",
    "if velocidadAsteroide > 25:\n",
    "    print(\"La velocidad del asteroide es: \" + str(velocidadAsteroide) + \"km/s cuidado!!\")\n",
    "else:\n",
    "    print(\"La velocidad del asteroide es: \" + str(velocidadAsteroide) + \"km/s no deben preocuparse :D\")"
   ]
  },
  {
   "cell_type": "markdown",
   "metadata": {},
   "source": [
    "# Programa asteroide no.2\n",
    "Crear un programa para avisar si se puede ver una luz en el cielo dependiendo de la velocidad de un asteroide."
   ]
  },
  {
   "cell_type": "markdown",
   "metadata": {},
   "source": [
    "Programa uno con un integral definido por las instrucciones del mismo"
   ]
  },
  {
   "cell_type": "code",
   "execution_count": 1,
   "metadata": {},
   "outputs": [
    {
     "name": "stdout",
     "output_type": "stream",
     "text": [
      "No hay nada en el cielo hoy\n"
     ]
    }
   ],
   "source": [
    "velocidadAsteroide = 19\n",
    "if velocidadAsteroide >= 20:\n",
    "    print(\"Miren al cielo!! Hay una luz hermosa\")\n",
    "else:\n",
    "    print(\"No hay nada en el cielo hoy\")"
   ]
  },
  {
   "cell_type": "markdown",
   "metadata": {},
   "source": [
    "Programa dos con un integral random"
   ]
  },
  {
   "cell_type": "code",
   "execution_count": 13,
   "metadata": {},
   "outputs": [
    {
     "name": "stdout",
     "output_type": "stream",
     "text": [
      "Miren al cielo!! Hay una luz hermosa\n"
     ]
    }
   ],
   "source": [
    "from random import randrange\n",
    "velocidadAsteroide = randrange(10, 51)\n",
    "if velocidadAsteroide >= 20:\n",
    "    print(\"Miren al cielo!! Hay una luz hermosa\")\n",
    "else:\n",
    "    print(\"No hay nada en el cielo hoy\")"
   ]
  },
  {
   "cell_type": "markdown",
   "metadata": {},
   "source": [
    "# Programa asteroide no.3\n",
    "Juntar los dos programas anteriores con el añadido de el tamaño del asteroide siendo peligroso si su tamaño es mayor a 25 metros"
   ]
  },
  {
   "cell_type": "code",
   "execution_count": 49,
   "metadata": {},
   "outputs": [
    {
     "name": "stdout",
     "output_type": "stream",
     "text": [
      "Hoy no hay nada en el cielo\n"
     ]
    }
   ],
   "source": [
    "from random import randrange\n",
    "velocidadAsteroide = randrange(0, 51)\n",
    "sizeAsteroide = randrange (0, 1001)\n",
    "if velocidadAsteroide > 25 and sizeAsteroide > 25:\n",
    "    print(\"Cuidado!! Se acerca un asteroide muy peligroso a la tierra\")\n",
    "elif velocidadAsteroide >= 20:\n",
    "    print(\"Miren al cielo hay una luz hermosa\")\n",
    "elif sizeAsteroide < 25:\n",
    "    print(\"Hoy no hay nada en el cielo\")\n",
    "else:\n",
    "    print(\"Hoy no hay nada en el cielo\")"
   ]
  }
 ],
 "metadata": {
  "interpreter": {
   "hash": "248acb109adfed8dab10696a9c79d3fa365dc84474e271a49a749f61bf93e09c"
  },
  "kernelspec": {
   "display_name": "Python 3.10.2 ('env': venv)",
   "language": "python",
   "name": "python3"
  },
  "language_info": {
   "codemirror_mode": {
    "name": "ipython",
    "version": 3
   },
   "file_extension": ".py",
   "mimetype": "text/x-python",
   "name": "python",
   "nbconvert_exporter": "python",
   "pygments_lexer": "ipython3",
   "version": "3.10.2"
  },
  "orig_nbformat": 4
 },
 "nbformat": 4,
 "nbformat_minor": 2
}
