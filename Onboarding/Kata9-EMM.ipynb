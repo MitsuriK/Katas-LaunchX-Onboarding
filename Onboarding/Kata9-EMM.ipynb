{
 "cells": [
  {
   "cell_type": "markdown",
   "metadata": {},
   "source": [
    "# Ejercicio 1: Trabajar con argumentos en funciones"
   ]
  },
  {
   "cell_type": "code",
   "execution_count": 33,
   "metadata": {},
   "outputs": [
    {
     "name": "stdout",
     "output_type": "stream",
     "text": [
      "Reporte de combustible:\n",
      "    Promedio total: 78.33333333333333%\n",
      "    Tanque principal: 80%\n",
      "    Tanque externo: 70%\n",
      "    tanque de hidrogeno: 85% \n",
      "    \n",
      "Reporte de combustible:\n",
      "    Promedio total: 234.0%\n",
      "    Tanque principal: 88%\n",
      "    Tanque externo: 76%\n",
      "    tanque de hidrogeno: 70% \n",
      "    \n"
     ]
    }
   ],
   "source": [
    "def generarReporte(tanquePrincipal, tanqueExterno, tanqueHidrogeno):\n",
    "    promedioTotal = (tanquePrincipal + tanqueExterno + tanqueHidrogeno) / 3\n",
    "    return f\"\"\"Reporte de combustible:\n",
    "    Promedio total: {promedioTotal}%\n",
    "    Tanque principal: {tanquePrincipal}%\n",
    "    Tanque externo: {tanqueExterno}%\n",
    "    tanque de hidrogeno: {tanqueHidrogeno}% \n",
    "    \"\"\" \n",
    "\n",
    "print(generarReporte(80, 70, 85))\n",
    "\n",
    "def promedio(variables):\n",
    "    total = sum(variables)\n",
    "    numObjetos = len(variables)\n",
    "    return total / numObjetos\n",
    "\n",
    "promedio([80, 85, 81])\n",
    "\n",
    "def generarReporte(tanquePrincipal, tanqueExterno, tanqueHidrogeno):\n",
    "    return f\"\"\"Reporte de combustible:\n",
    "    Promedio total: {promedio([tanquePrincipal + tanqueExterno + tanqueHidrogeno])}%\n",
    "    Tanque principal: {tanquePrincipal}%\n",
    "    Tanque externo: {tanqueExterno}%\n",
    "    tanque de hidrogeno: {tanqueHidrogeno}% \n",
    "    \"\"\"\n",
    "\n",
    "print(generarReporte(88, 76, 70))"
   ]
  },
  {
   "cell_type": "markdown",
   "metadata": {},
   "source": [
    "# Ejercicio 2: Trabajo con argumentos de palabra clave"
   ]
  },
  {
   "cell_type": "code",
   "execution_count": 52,
   "metadata": {},
   "outputs": [
    {
     "name": "stdout",
     "output_type": "stream",
     "text": [
      "\n",
      "    Mission to Moon\n",
      "    Total travel time: 65 minutes\n",
      "    Total fuel left: 500000 gallons\n",
      "    \n",
      "\n",
      "    Mission to Moon\n",
      "    Total travel time: 76 minutes\n",
      "    Total fuel left: 500000\n",
      "    \n",
      "\n",
      "    Mission to Moon\n",
      "    Total travel time: 74 minutes\n",
      "    Total fuel left: 500000\n",
      "    main tank --> 300000 gallons left\n",
      "external tank --> 200000 gallons left\n",
      "\n"
     ]
    }
   ],
   "source": [
    "''' def reporteMision(tiempoAntesDeLanzamiento, TiempoVuelo, destino, tanqueExterno, tanquePrincipal):\n",
    "    return f\"\"\"\n",
    "    Mision a {destino}\n",
    "    Tiempo total de viaje: {tiempoAntesDeLanzamiento + TiempoVuelo} minutos\n",
    "    Combustible restante: {tanqueExterno + tanquePrincipal} gallons\n",
    "    \"\"\"\n",
    "\n",
    "print(reporteMision(14, 51, \"Luna\", 200000, 300000))\n",
    "\n",
    "def reporteMision(tiempoAntesDeLanzamiento, TiempoVuelo, destino, tanqueExterno, tanquePrincipal):\n",
    "    return f\"\"\"\n",
    "    Mision a {destino}\n",
    "    Tiempo total de viaje: {tiempoAntesDeLanzamiento + TiempoVuelo} minutos\n",
    "    Combustible restante: {tanqueExterno + tanquePrincipal} galones\n",
    "    \"\"\"\n",
    "\n",
    "print(reporteMision(\"Luna\", 10, 15, 51, main=300000, external=200000))\n",
    "\n",
    "def reporteMision(destino, *minutos, **reservaCombustible):\n",
    "    reportePrincipal = f\"\"\"\n",
    "    Mision a {destino}\n",
    "    Tiempo total de viaje: {sum(minutos)} minutos\n",
    "    Combustible restante: {sum(reservaCombustible.values())}\n",
    "    \"\"\"\n",
    "    for nombreTanque, galones in reservaCombustible.items():\n",
    "        reportePrincipal += f\"{nombreTanque} tanque --> {galones} galones restantes\\n\"\n",
    "    return reportePrincipal\n",
    "\n",
    "print(reporteMision(\"Luna\", 8, 11, 55, main=300000, external=200000)) '''\n",
    "\n",
    "def mission_report(pre_launch_time, flight_time, destination, tanqueExterno, tanquePrincipal):\n",
    "    return f\"\"\"\n",
    "    Mission to {destination}\n",
    "    Total travel time: {pre_launch_time + flight_time} minutes\n",
    "    Total fuel left: {tanqueExterno + tanquePrincipal} gallons\n",
    "    \"\"\"\n",
    "\n",
    "print(mission_report(14, 51, \"Moon\", 200000, 300000))\n",
    "# Escribe tu nueva función de reporte considerando lo anterior\n",
    "\n",
    "def mission_report(destination, *minutes, **fuel_reservoirs):\n",
    "    return f\"\"\"\n",
    "    Mission to {destination}\n",
    "    Total travel time: {sum(minutes)} minutes\n",
    "    Total fuel left: {sum(fuel_reservoirs.values())}\n",
    "    \"\"\"\n",
    "\n",
    "print(mission_report(\"Moon\", 10, 15, 51, main=300000, external=200000))\n",
    "# Escribe tu nueva función\n",
    "\n",
    "def mission_report(destination, *minutes, **fuel_reservoirs):\n",
    "    main_report = f\"\"\"\n",
    "    Mission to {destination}\n",
    "    Total travel time: {sum(minutes)} minutes\n",
    "    Total fuel left: {sum(fuel_reservoirs.values())}\n",
    "    \"\"\"\n",
    "    for nombreTanque, gallons in fuel_reservoirs.items():\n",
    "        main_report += f\"{nombreTanque} tank --> {gallons} gallons left\\n\"\n",
    "    return main_report\n",
    "\n",
    "print(mission_report(\"Moon\", 8, 11, 55, main=300000, external=200000))"
   ]
  }
 ],
 "metadata": {
  "interpreter": {
   "hash": "0dc1e9dac854542eec462d351ed92921ccb0441ebce2152bb8b87a81931218d6"
  },
  "kernelspec": {
   "display_name": "Python 3.10.2 64-bit",
   "language": "python",
   "name": "python3"
  },
  "language_info": {
   "codemirror_mode": {
    "name": "ipython",
    "version": 3
   },
   "file_extension": ".py",
   "mimetype": "text/x-python",
   "name": "python",
   "nbconvert_exporter": "python",
   "pygments_lexer": "ipython3",
   "version": "3.10.2"
  },
  "orig_nbformat": 4
 },
 "nbformat": 4,
 "nbformat_minor": 2
}
